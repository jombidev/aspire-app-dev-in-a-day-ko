{
    "cells": [
        {
            "cell_type": "code",
            "execution_count": 1,
            "metadata": {
                "dotnet_interactive": {
                    "language": "csharp"
                },
                "polyglot_notebook": {
                    "kernelName": "csharp"
                },
                "vscode": {
                    "languageId": "polyglot-notebook"
                }
            },
            "outputs": [
                {
                    "data": {
                        "text/html": [
                            "<div><div></div><div></div><div><strong>Installed Packages</strong><ul><li><span>MelonChart.NET, 2.0.0</span></li><li><span>Microsoft.SemanticKernel, 1.16.1</span></li><li><span>Microsoft.SemanticKernel.Connectors.OpenAI, 1.16.1</span></li><li><span>Microsoft.SemanticKernel.Core, 1.16.1</span></li><li><span>Microsoft.SemanticKernel.Plugins.Core, 1.16.1-alpha</span></li><li><span>Microsoft.SemanticKernel.Plugins.Memory, 1.16.1-alpha</span></li><li><span>System.Linq.Async, 6.0.1</span></li></ul></div></div>"
                        ]
                    },
                    "metadata": {},
                    "output_type": "display_data"
                }
            ],
            "source": [
                "// Nuget Packages\n",
                "#r \"nuget: MelonChart.NET, 2.*\"\n",
                "\n",
                "#r \"nuget: Microsoft.SemanticKernel, 1.*\"\n",
                "#r \"nuget: Microsoft.SemanticKernel.Connectors.OpenAI, 1.*\"\n",
                "#r \"nuget: Microsoft.SemanticKernel.Core, 1.*\"\n",
                "#r \"nuget: Microsoft.SemanticKernel.Plugins.Core, 1.*-*\"\n",
                "#r \"nuget: Microsoft.SemanticKernel.Plugins.Memory, 1.*-*\"\n",
                "\n",
                "#r \"nuget: System.Linq.Async, 6.*\""
            ]
        },
        {
            "cell_type": "code",
            "execution_count": 2,
            "metadata": {
                "dotnet_interactive": {
                    "language": "csharp"
                },
                "polyglot_notebook": {
                    "kernelName": "csharp"
                },
                "vscode": {
                    "languageId": "polyglot-notebook"
                }
            },
            "outputs": [],
            "source": [
                "// Add using statements\n",
                "using System.ComponentModel;\n",
                "using System.Net.Http;\n",
                "using System.Text.Encodings.Web;\n",
                "using System.Text.Json;\n",
                "using System.Text.Json.Serialization;\n",
                "\n",
                "using MelonChart.Models;\n",
                "\n",
                "using Microsoft.SemanticKernel;\n",
                "using Microsoft.SemanticKernel.Connectors.OpenAI;\n",
                "using Microsoft.SemanticKernel.Memory;\n",
                "\n",
                "using Kernel = Microsoft.SemanticKernel.Kernel;"
            ]
        },
        {
            "cell_type": "code",
            "execution_count": 3,
            "metadata": {
                "dotnet_interactive": {
                    "language": "csharp"
                },
                "polyglot_notebook": {
                    "kernelName": "csharp"
                },
                "vscode": {
                    "languageId": "polyglot-notebook"
                }
            },
            "outputs": [],
            "source": [
                "// Azure OpenAI configurations\n",
                "var endpoint = \"https://polite-ground-030dc3103.4.azurestaticapps.net/api/v1\";\n",
                "var apiKey = \"41d483d1-3521-4bb8-aeaa-03f8ee32aaa5\";\n",
                "var deploymentName = \"model-gpt4o-20240513\";"
            ]
        },
        {
            "cell_type": "code",
            "execution_count": 4,
            "metadata": {
                "dotnet_interactive": {
                    "language": "csharp"
                },
                "polyglot_notebook": {
                    "kernelName": "csharp"
                },
                "vscode": {
                    "languageId": "polyglot-notebook"
                }
            },
            "outputs": [],
            "source": [
                "// Build Semantic Kernel\n",
                "var kernel = Kernel.CreateBuilder()\n",
                "                   .AddAzureOpenAIChatCompletion(\n",
                "                       deploymentName: deploymentName,\n",
                "                       endpoint: endpoint,\n",
                "                       apiKey: apiKey)\n",
                "                   .Build();"
            ]
        },
        {
            "cell_type": "code",
            "execution_count": 5,
            "metadata": {
                "dotnet_interactive": {
                    "language": "csharp"
                },
                "polyglot_notebook": {
                    "kernelName": "csharp"
                },
                "vscode": {
                    "languageId": "polyglot-notebook"
                }
            },
            "outputs": [],
            "source": [
                "var prompts = kernel.ImportPluginFromPromptDirectory(\"Prompts\");\n",
                "#!import Plugins/AddMemory/AddMelonChartPlugin.cs"
            ]
        },
        {
            "cell_type": "code",
            "execution_count": 6,
            "metadata": {
                "dotnet_interactive": {
                    "language": "csharp"
                },
                "polyglot_notebook": {
                    "kernelName": "csharp"
                },
                "vscode": {
                    "languageId": "polyglot-notebook"
                }
            },
            "outputs": [],
            "source": [
                "// Import plugins\n",
                "kernel.ImportPluginFromType<AddMelonChartPlugin>();"
            ]
        },
        {
            "cell_type": "code",
            "execution_count": 7,
            "metadata": {
                "dotnet_interactive": {
                    "language": "csharp"
                },
                "polyglot_notebook": {
                    "kernelName": "csharp"
                },
                "vscode": {
                    "languageId": "polyglot-notebook"
                }
            },
            "outputs": [],
            "source": [
                "// Build Semantic Memory\n",
                "#pragma warning disable SKEXP0001\n",
                "#pragma warning disable SKEXP0010\n",
                "#pragma warning disable SKEXP0050\n",
                "\n",
                "var memory = new MemoryBuilder()\n",
                "                 .WithAzureOpenAITextEmbeddingGeneration(\n",
                "                     deploymentName: \"model-textembeddingada002-2\",\n",
                "                     endpoint: endpoint,\n",
                "                     apiKey: apiKey)\n",
                "                 .WithMemoryStore(new VolatileMemoryStore())\n",
                "                 .Build();"
            ]
        },
        {
            "cell_type": "code",
            "execution_count": 8,
            "metadata": {
                "dotnet_interactive": {
                    "language": "csharp"
                },
                "polyglot_notebook": {
                    "kernelName": "csharp"
                },
                "vscode": {
                    "languageId": "polyglot-notebook"
                }
            },
            "outputs": [],
            "source": [
                "// Add HttpClient instance.\n",
                "var http = new HttpClient();"
            ]
        },
        {
            "cell_type": "code",
            "execution_count": 9,
            "metadata": {
                "dotnet_interactive": {
                    "language": "csharp"
                },
                "polyglot_notebook": {
                    "kernelName": "csharp"
                },
                "vscode": {
                    "languageId": "polyglot-notebook"
                }
            },
            "outputs": [],
            "source": [
                "// Add JsonSerializerOptions instance.\n",
                "var jso = new JsonSerializerOptions()\n",
                "{\n",
                "    WriteIndented = false,\n",
                "    PropertyNamingPolicy = JsonNamingPolicy.CamelCase,\n",
                "    Encoder = JavaScriptEncoder.UnsafeRelaxedJsonEscaping,\n",
                "    Converters = { new JsonStringEnumConverter(JsonNamingPolicy.CamelCase) },\n",
                "};"
            ]
        },
        {
            "cell_type": "code",
            "execution_count": 18,
            "metadata": {
                "dotnet_interactive": {
                    "language": "csharp"
                },
                "polyglot_notebook": {
                    "kernelName": "csharp"
                },
                "vscode": {
                    "languageId": "polyglot-notebook"
                }
            },
            "outputs": [
                {
                    "name": "stdout",
                    "output_type": "stream",
                    "text": [
                        "- Stored: aespa - Supernova\n",
                        "- Stored: NewJeans - How Sweet\n",
                        "- Stored: 이영지 - Small girl (feat. 도경수(D.O.))\n",
                        "- Stored: (여자)아이들 - 클락션 (Klaxon)\n",
                        "- Stored: KISS OF LIFE - Sticky\n",
                        "- Stored: NewJeans - Supernatural\n",
                        "- Stored: 이클립스 (ECLIPSE) - 소나기\n",
                        "- Stored: QWER - 고민중독\n",
                        "- Stored: NewJeans - Bubble Gum\n",
                        "- Stored: DAY6 (데이식스) - 한 페이지가 될 수 있게\n",
                        "- Stored: (여자)아이들 - 나는 아픈 건 딱 질색이니까\n",
                        "- Stored: 아일릿(ILLIT) - Magnetic\n",
                        "- Stored: aespa - Armageddon\n",
                        "- Stored: IVE (아이브) - 해야 (HEYA)\n",
                        "- Stored: 지코 (ZICO) - SPOT! (feat. JENNIE)\n",
                        "- Stored: TWS (투어스) - 첫 만남은 계획대로 되지 않아\n",
                        "- Stored: DAY6 (데이식스) - Welcome to the Show\n",
                        "- Stored: DAY6 (데이식스) - 예뻤어\n",
                        "- Stored: 이창섭 - 천상연\n",
                        "- Stored: 이무진 - 에피소드\n",
                        "- Stored: Crush - 미안해 미워해 사랑해\n",
                        "- Stored: RIIZE - Boom Boom Bass\n",
                        "- Stored: NewJeans - Hype Boy\n",
                        "- Stored: 아이유 - Love wins all\n",
                        "- Stored: 임재현 - 비의 랩소디\n",
                        "- Stored: 순순희 (지환) - 슬픈 초대장\n",
                        "- Stored: TWS (투어스) - 내가 S면 넌 나의 N이 되어줘\n",
                        "- Stored: IVE (아이브) - I AM\n",
                        "- Stored: 너드커넥션 (Nerd Connection) - 그대만 있다면 (여름날 우리 X 너드커넥션 (Nerd Connection))\n",
                        "- Stored: NewJeans - ETA\n",
                        "- Stored: 비비 (BIBI) - 밤양갱\n",
                        "- Stored: 정국 - Seven (feat. Latto) - Clean Ver.\n",
                        "- Stored: 허각 - 오래된 노래\n",
                        "- Stored: NewJeans - Super Shy\n",
                        "- Stored: 임영웅 - 사랑은 늘 도망가\n",
                        "- Stored: NewJeans - Attention\n",
                        "- Stored: BABYMONSTER - SHEESH\n",
                        "- Stored: 박재정 - 헤어지자 말해요\n",
                        "- Stored: 태연 (TAEYEON) - To. X\n",
                        "- Stored: aespa - Drama\n",
                        "- Stored: NewJeans - Ditto\n",
                        "- Stored: 성시경 - 너의 모든 순간\n",
                        "- Stored: (여자)아이들 - 퀸카 (Queencard)\n",
                        "- Stored: aespa - Spicy\n",
                        "- Stored: 멜로망스 - 사랑인가 봐\n",
                        "- Stored: 이무진 - 청혼하지 않을 이유를 못 찾았어\n",
                        "- Stored: tripleS (트리플에스) - Girls Never Die\n",
                        "- Stored: 범진 - 인사\n",
                        "- Stored: 잔나비 - 주저하는 연인들을 위해\n",
                        "- Stored: 윤하 (YOUNHA) - 사건의 지평선\n",
                        "- Stored: IVE (아이브) - Accendio\n",
                        "- Stored: 부석순 (SEVENTEEN) - 파이팅 해야지 (Feat. 이영지)\n",
                        "- Stored: IVE (아이브) - LOVE DIVE\n",
                        "- Stored: NewJeans - OMG\n",
                        "- Stored: 우디 (Woody) - 사막에서 꽃을 피우듯\n",
                        "- Stored: RIIZE - Love 119\n",
                        "- Stored: LE SSERAFIM (르세라핌) - Perfect Night\n",
                        "- Stored: 방탄소년단 - Dynamite\n",
                        "- Stored: 유회승 (엔플라잉) - 그랬나봐\n",
                        "- Stored: AKMU (악뮤) - Love Lee\n",
                        "- Stored: RIIZE - Get A Guitar\n",
                        "- Stored: 엔플라잉 (N.Flying) - 네가 내 마음에 자리 잡았다 (Into You)\n",
                        "- Stored: 폴킴 - 모든 날, 모든 순간 (Every day, Every Moment)\n",
                        "- Stored: 임영웅 - 우리들의 블루스\n",
                        "- Stored: 경서예지 - 다정히 내 이름을 부르면\n",
                        "- Stored: AKMU (악뮤) - 어떻게 이별까지 사랑하겠어, 널 사랑하는 거지\n",
                        "- Stored: Charlie Puth - I Don't Think That I Like Her\n",
                        "- Stored: 임영웅 - 온기\n",
                        "- Stored: KISS OF LIFE - Midas Touch\n",
                        "- Stored: VIVIZ (비비지) - MANIAC\n",
                        "- Stored: 김민석 - 취중고백\n",
                        "- Stored: 태연 (TAEYEON) - 꿈\n",
                        "- Stored: 세븐틴 (SEVENTEEN) - MAESTRO\n",
                        "- Stored: NewJeans - Right Now\n",
                        "- Stored: NCT 127 - 삐그덕 (Walk)\n",
                        "- Stored: Red Velvet (레드벨벳) - Cosmic\n",
                        "- Stored: 10CM - 봄눈\n",
                        "- Stored: 아일릿(ILLIT) - Lucky Girl Syndrome\n",
                        "- Stored: 임영웅 - 모래 알갱이\n",
                        "- Stored: 방탄소년단 - 봄날\n",
                        "- Stored: LE SSERAFIM (르세라핌) - EASY\n",
                        "- Stored: 임영웅 - Home\n",
                        "- Stored: 임영웅 - 다시 만날 수 있을까\n",
                        "- Stored: 임영웅 - 이제 나만 믿어요\n",
                        "- Stored: 하동균 - 내가 그댈\n",
                        "- Stored: RIIZE - Impossible\n",
                        "- Stored: PLAVE - WAY 4 LUV\n",
                        "- Stored: 임영웅 - 무지개\n",
                        "- Stored: RIIZE - Siren\n",
                        "- Stored: 임영웅 - Do or Die\n",
                        "- Stored: 임한별 - 사랑하지 않아서 그랬어\n",
                        "- Stored: 임영웅 - London Boy\n",
                        "- Stored: 임영웅 - Polaroid\n",
                        "- Stored: PLAVE - 우리 영화\n",
                        "- Stored: 임영웅 - 인생찬가\n",
                        "- Stored: 로이킴 - 잘 지내자, 우리 (여름날 우리 X 로이킴)\n",
                        "- Stored: DK(디셈버) - 심(心)\n",
                        "- Stored: LE SSERAFIM (르세라핌) - Smart\n",
                        "- Stored: 탑현 - T의 연애\n",
                        "- Stored: 세븐틴 (SEVENTEEN) - 손오공\n"
                    ]
                }
            ],
            "source": [
                "// Invoke the plugin - Add Melon Chart data\n",
                "await kernel.InvokeAsync(\n",
                "    pluginName: nameof(AddMelonChartPlugin),\n",
                "    functionName: nameof(AddMelonChartPlugin.AddChart), \n",
                "    arguments: new KernelArguments()\n",
                "    {\n",
                "        { \"memory\", memory }, \n",
                "        { \"http\", http },\n",
                "        { \"jso\", jso }, \n",
                "    }\n",
                ");"
            ]
        },
        {
            "cell_type": "code",
            "execution_count": 22,
            "metadata": {
                "dotnet_interactive": {
                    "language": "csharp"
                },
                "polyglot_notebook": {
                    "kernelName": "csharp"
                },
                "vscode": {
                    "languageId": "polyglot-notebook"
                }
            },
            "outputs": [
                {
                    "name": "stdout",
                    "output_type": "stream",
                    "text": [
                        "User: NewJeans 앨범 줘\n",
                        "ListOfAlbumsByArtist\n"
                    ]
                }
            ],
            "source": [
                "// User input\n",
                "var question = await Microsoft.DotNet.Interactive.Kernel.GetInputAsync(\"무엇이 궁금한가요?\");\n",
                "\n",
                "Console.WriteLine($\"User: {question}\");\n",
                "\n",
                "var result = await kernel.InvokePromptAsync<string>(question);\n",
                "\n",
                "// Invoke the prompt - GetIntent\n",
                "var intent = await kernel.InvokeAsync<string>(\n",
                "                        function: prompts[\"GetIntent\"],\n",
                "                        arguments: new KernelArguments()\n",
                "                        {\n",
                "                            { \"input\", question }\n",
                "                        });\n",
                "\n",
                "Console.WriteLine(intent);"
            ]
        },
        {
            "cell_type": "code",
            "execution_count": 23,
            "metadata": {
                "dotnet_interactive": {
                    "language": "csharp"
                },
                "polyglot_notebook": {
                    "kernelName": "csharp"
                },
                "vscode": {
                    "languageId": "polyglot-notebook"
                }
            },
            "outputs": [
                {
                    "name": "stdout",
                    "output_type": "stream",
                    "text": [
                        "List all the albums by NewJeans in the chart\n"
                    ]
                }
            ],
            "source": [
                "var refined = await kernel.InvokeAsync<string>(\n",
                "                        function: prompts[\"RefineQuestion\"],\n",
                "                        arguments: new KernelArguments()\n",
                "                        {\n",
                "                            { \"input\", question },\n",
                "                            { \"intent\", intent }\n",
                "                        });\n",
                "\n",
                "Console.WriteLine(refined);"
            ]
        },
        {
            "cell_type": "code",
            "execution_count": 24,
            "metadata": {
                "dotnet_interactive": {
                    "language": "csharp"
                },
                "polyglot_notebook": {
                    "kernelName": "csharp"
                },
                "vscode": {
                    "languageId": "polyglot-notebook"
                }
            },
            "outputs": [
                {
                    "name": "stdout",
                    "output_type": "stream",
                    "text": [
                        "{\"songId\":\"35454425\",\"rank\":36,\"rankStatus\":\"none\",\"rankStatusValue\":0,\"title\":\"Attention\",\"artist\":\"NewJeans\",\"album\":\"NewJeans 1st EP 'New Jeans'\",\"image\":\"https://cdnimg.melon.co.kr/cm2/album/images/110/11/565/11011565_20220801102637_500.jpg/melon/resize/120/quality/80/optimize\",\"trackId\":null,\"trackUri\":null,\"danceability\":null,\"valence\":null}\n",
                        "{\"songId\":\"35454426\",\"rank\":23,\"rankStatus\":\"none\",\"rankStatusValue\":0,\"title\":\"Hype Boy\",\"artist\":\"NewJeans\",\"album\":\"NewJeans 1st EP 'New Jeans'\",\"image\":\"https://cdnimg.melon.co.kr/cm2/album/images/110/11/565/11011565_20220801102637_500.jpg/melon/resize/120/quality/80/optimize\",\"trackId\":null,\"trackUri\":null,\"danceability\":null,\"valence\":null}\n",
                        "{\"songId\":\"35985167\",\"rank\":54,\"rankStatus\":\"none\",\"rankStatusValue\":0,\"title\":\"OMG\",\"artist\":\"NewJeans\",\"album\":\"NewJeans 'OMG'\",\"image\":\"https://cdnimg.melon.co.kr/cm2/album/images/111/27/145/11127145_20231213133532_500.jpg/melon/resize/120/quality/80/optimize\",\"trackId\":null,\"trackUri\":null,\"danceability\":null,\"valence\":null}\n",
                        "{\"songId\":\"35945927\",\"rank\":41,\"rankStatus\":\"none\",\"rankStatusValue\":0,\"title\":\"Ditto\",\"artist\":\"NewJeans\",\"album\":\"NewJeans 'OMG'\",\"image\":\"https://cdnimg.melon.co.kr/cm2/album/images/111/27/145/11127145_20231213133532_500.jpg/melon/resize/120/quality/80/optimize\",\"trackId\":null,\"trackUri\":null,\"danceability\":null,\"valence\":null}\n"
                    ]
                }
            ],
            "source": [
                "// Invoke the plugin - Find songs\n",
                "var results = await kernel.InvokeAsync(\n",
                "    pluginName: nameof(AddMelonChartPlugin),\n",
                "    functionName: nameof(AddMelonChartPlugin.FindSongs), \n",
                "    arguments: new KernelArguments()\n",
                "    {\n",
                "        { \"memory\", memory }, \n",
                "        { \"question\", refined },\n",
                "        { \"jso\", jso }, \n",
                "    }\n",
                ");\n",
                "\n",
                "var data = results.GetValue<List<ChartItem>>().Select(p => JsonSerializer.Serialize(p, jso)).Aggregate((x, y) => $\"{x}\\n{y}\");\n",
                "\n",
                "Console.WriteLine(data);"
            ]
        },
        {
            "cell_type": "code",
            "execution_count": 25,
            "metadata": {
                "dotnet_interactive": {
                    "language": "csharp"
                },
                "polyglot_notebook": {
                    "kernelName": "csharp"
                },
                "vscode": {
                    "languageId": "polyglot-notebook"
                }
            },
            "outputs": [
                {
                    "name": "stdout",
                    "output_type": "stream",
                    "text": [
                        "NewJeans|36|Attention|NewJeans 1st EP 'New Jeans'\\nNewJeans|23|Hype Boy|NewJeans 1st EP 'New Jeans'\\nNewJeans|54|OMG|NewJeans 'OMG'\\nNewJeans|41|Ditto|NewJeans 'OMG'\n"
                    ]
                }
            ],
            "source": [
                "// Invoke the prompt - RefineResult\n",
                "var refined = await kernel.InvokeAsync<string>(\n",
                "                        function: prompts[\"RefineResult\"],\n",
                "                        arguments: new KernelArguments()\n",
                "                        {\n",
                "                            { \"input\", data },\n",
                "                            { \"intent\", intent }\n",
                "                        });\n",
                "\n",
                "Console.WriteLine(refined);"
            ]
        }
    ],
    "metadata": {
        "kernelspec": {
            "display_name": ".NET (C#)",
            "language": "C#",
            "name": ".net-csharp"
        },
        "language_info": {
            "name": "python"
        },
        "polyglot_notebook": {
            "kernelInfo": {
                "defaultKernelName": "csharp",
                "items": [
                    {
                        "aliases": [],
                        "name": "csharp"
                    }
                ]
            }
        }
    },
    "nbformat": 4,
    "nbformat_minor": 2
}
